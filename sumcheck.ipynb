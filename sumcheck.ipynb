{
 "cells": [
  {
   "cell_type": "code",
   "execution_count": 4,
   "metadata": {
    "vscode": {
     "languageId": "python"
    }
   },
   "outputs": [],
   "source": [
    "from sage.rings.finite_rings.all import *\n",
    "from sage.rings.polynomial.all import *"
   ]
  },
  {
   "cell_type": "code",
   "execution_count": 77,
   "metadata": {
    "vscode": {
     "languageId": "python"
    }
   },
   "outputs": [],
   "source": [
    "def sum_up(fun, hypercube = [0,1]):\n",
    "    ring = fun.parent()\n",
    "    base_ring = fun.parent().base_ring();\n",
    "    variables = fun.variables()\n",
    "    eval_set = set([base_ring(i) for i in hypercube])\n",
    "    result = ring(fun)\n",
    "\n",
    "    for xi in variables:\n",
    "        temp_sum = ring(0)\n",
    "        for value in eval_set:\n",
    "            res1 = ring(result)\n",
    "            temp_sum += res1.substitute({ xi : value } )\n",
    "            \n",
    "        result = temp_sum\n",
    "\n",
    "    return result\n",
    "\n",
    "def power_coefficients(fun, variable_name):\n",
    "    parent = fun.parent()\n",
    "\n",
    "    if not hasattr(parent, 'univariate_ring'):\n",
    "        if hasattr(fun, 'list'):\n",
    "            return fun.list()\n",
    "        else:\n",
    "            return [fun]\n",
    "    \n",
    "    univariate_ring = parent.univariate_ring(variable_name)\n",
    "    fx = univariate_ring(fun)\n",
    "    return fx.list()\n"
   ]
  },
  {
   "cell_type": "code",
   "execution_count": 78,
   "metadata": {
    "vscode": {
     "languageId": "python"
    }
   },
   "outputs": [
    {
     "name": "stdout",
     "output_type": "stream",
     "text": [
      "x> [9*Y*Z^2 + 37, 11*Y^2, 7*Y*Z]\n",
      "  y0 > [37, 9*Z^2]\n",
      "    z0,0 > [37]\n",
      "    z0,1 > [0, 0, 9]\n",
      "  y1 > [0, 0, 11]\n",
      "    z1,0 > []\n",
      "    z1,1 > []\n",
      "    z1,2 > [11]\n",
      "  y2 > [0, 7*Z]\n",
      "    z2,0 > []\n",
      "    z2,1 > [0, 7]\n"
     ]
    }
   ],
   "source": [
    "R = PolynomialRing(QQ, \"X,Y,Z\")\n",
    "(X,Y,Z) = R.gens()\n",
    "\n",
    "fx = 7*(X**2)*Y*Z + 11*X*(Y**2) + 9*Y*(Z**2) + 37\n",
    "\n",
    "x_0 = power_coefficients(fx, X)\n",
    "print(f\"x> {x_0}\")\n",
    "\n",
    "for (i,y) in enumerate(x_0):\n",
    "    y_i = power_coefficients(y, Y)\n",
    "    print(f\"  y{i} > {y_i}\")\n",
    "\n",
    "    for (j,z) in enumerate(y_i):\n",
    "        z_i = power_coefficients(z, Z)\n",
    "\n",
    "        print(f\"    z{i},{j} > {z_i}\")\n"
   ]
  }
 ],
 "metadata": {
  "kernelspec": {
   "display_name": "SageMath 10.5",
   "language": "sage",
   "name": "sagemath-10.5"
  },
  "language_info": {
   "codemirror_mode": {
    "name": "ipython",
    "version": 3
   },
   "file_extension": ".py",
   "mimetype": "text/x-python",
   "name": "sage",
   "nbconvert_exporter": "python",
   "pygments_lexer": "ipython3",
   "version": "3.12.5"
  }
 },
 "nbformat": 4,
 "nbformat_minor": 2
}
