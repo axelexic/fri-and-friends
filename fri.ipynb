{
 "cells": [
  {
   "cell_type": "markdown",
   "metadata": {},
   "source": [
    "# FRI: Fast Reed Solomon IOP of Proximity"
   ]
  },
  {
   "cell_type": "code",
   "execution_count": 4,
   "metadata": {
    "vscode": {
     "languageId": "python"
    }
   },
   "outputs": [
    {
     "name": "stdout",
     "output_type": "stream",
     "text": [
      "209670444*X^63 + 619210726*X^62 + 716484126*X^61 + 1026693660*X^60 + 1712135823*X^59 + 851189818*X^58 + 1790449754*X^57 + 1441568294*X^56 + 626094291*X^55 + 1513023179*X^54 + 2006254524*X^53 + 1181563468*X^52 + 1715892937*X^51 + 51554832*X^50 + 1138839230*X^49 + 1526384152*X^48 + 877485725*X^47 + 252070210*X^46 + 1583044088*X^45 + 405705708*X^44 + 28523152*X^43 + 642738217*X^42 + 1473155491*X^41 + 1105097866*X^40 + 999964422*X^39 + 262347000*X^38 + 410815183*X^37 + 1843152716*X^36 + 13796071*X^35 + 1864137813*X^34 + 1541289774*X^33 + 856000143*X^32 + 1533849335*X^31 + 1842944996*X^30 + 1024472393*X^29 + 344779029*X^28 + 406578779*X^27 + 1585503615*X^26 + 675840124*X^25 + 1494547900*X^24 + 560565813*X^23 + 1437514990*X^22 + 1521253208*X^21 + 667263069*X^20 + 90955195*X^19 + 1216034355*X^18 + 370720170*X^17 + 1616501690*X^16 + 334190186*X^15 + 1106470632*X^14 + 1745438653*X^13 + 146986405*X^12 + 1988533412*X^11 + 525012578*X^10 + 1839727791*X^9 + 1720393901*X^8 + 412361066*X^7 + 1886591989*X^6 + 790344259*X^5 + 1344244207*X^4 + 1988080144*X^3 + 1179766289*X^2 + 134529669*X + 1709363337\n",
      "902610595*X^15 + 1780254306*X^14 + 330546626*X^13 + 255181904*X^12 + 794337718*X^11 + 655838749*X^10 + 612317946*X^9 + 322690785*X^8 + 526649187*X^7 + 1964826733*X^6 + 164376538*X^5 + 1960202050*X^4 + 214315674*X^3 + 1089033377*X^2 + 1212246974*X + 1697429811\n",
      "Updated eval domain length: 64 vs. 256\n"
     ]
    }
   ],
   "source": [
    "from sage.rings.finite_rings.all import *\n",
    "from sage.rings.polynomial.all import *\n",
    "\n",
    "def chunk_poly(poly, split_degree):\n",
    "    chunks = poly.degree()//split_degree\n",
    "    splits = [ poly.parent()(0) for _ in range(split_degree) ]\n",
    "    indeterminate = poly.parent().gen()\n",
    "\n",
    "    for (i,coef) in enumerate(poly.list()):\n",
    "        ndx = i % split_degree\n",
    "        deg = i // split_degree\n",
    "        splits[ndx] = splits[ndx] + coef*(indeterminate**deg)\n",
    "\n",
    "    pp = poly.parent()(0)\n",
    "\n",
    "    for (j,mini_poly) in enumerate(splits):\n",
    "        pp = pp + mini_poly.subs({ indeterminate : indeterminate** split_degree})*(indeterminate**j)\n",
    "    assert pp == poly, \"The reconstruction works\"\n",
    "\n",
    "    return splits\n",
    "\n",
    "def fold(commit_poly, split_size, challenge, eval_domain):\n",
    "    splits = chunk_poly(commit_poly, split_size)\n",
    "    updated_domain = list(set([x**split_size for x in eval_domain]))\n",
    "    new_poly = commit_poly.parent()(0)\n",
    "    for i in range(split_size):\n",
    "        new_poly = new_poly + (challenge**i)*splits[i]\n",
    "\n",
    "    return (new_poly, updated_domain)\n",
    "    \n",
    "\n",
    "mult_order = 15*(2**27)\n",
    "Fq = GF(mult_order+1)\n",
    "Rx = PolynomialRing(Fq, \"X\")\n",
    "eval_domain_size = 2**8\n",
    "rate_factor = 4\n",
    "k_factor = 4\n",
    "max_degree = eval_domain_size // rate_factor\n",
    "\n",
    "G = Fq.multiplicative_generator()\n",
    "g = G**(mult_order // eval_domain_size)\n",
    "\n",
    "eval_domain = [g^i for i in range(1, eval_domain_size+1)]\n",
    "\n",
    "poly_commit = Rx.random_element(max_degree - 1);\n",
    "print(poly_commit)\n",
    "p,eval_domain_2 = fold(poly_commit, k_factor, 34, eval_domain)\n",
    "print(f\"{p}\")\n",
    "print(f\"Updated eval domain length: {len(eval_domain_2)} vs. {len(eval_domain)}\")"
   ]
  }
 ],
 "metadata": {
  "kernelspec": {
   "display_name": "SageMath 10.5",
   "language": "sage",
   "name": "sagemath-10.5"
  },
  "language_info": {
   "codemirror_mode": {
    "name": "ipython",
    "version": 3
   },
   "file_extension": ".py",
   "mimetype": "text/x-python",
   "name": "sage",
   "nbconvert_exporter": "python",
   "pygments_lexer": "ipython3",
   "version": "3.12.5"
  }
 },
 "nbformat": 4,
 "nbformat_minor": 2
}
