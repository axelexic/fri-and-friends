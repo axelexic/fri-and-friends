{
 "cells": [
  {
   "cell_type": "markdown",
   "metadata": {},
   "source": [
    "# WHIR: Reed–Solomon Proximity Testing with Super-Fast Verification"
   ]
  },
  {
   "cell_type": "code",
   "execution_count": null,
   "metadata": {
    "vscode": {
     "languageId": "python"
    }
   },
   "outputs": [],
   "source": [
    "from sage.rings.finite_rings.all import *\n",
    "from sage.rings.polynomial.all import *\n",
    "from sage.misc.prandom import sample\n",
    "from copy import deepcopy"
   ]
  },
  {
   "cell_type": "code",
   "execution_count": 65,
   "metadata": {
    "vscode": {
     "languageId": "python"
    }
   },
   "outputs": [],
   "source": [
    "def sumcheck_round(func, subst_set, sum_set):\n",
    "    sum_so_far = deepcopy(func)\n",
    "    variables = func.variables()\n",
    "    subst_index = len(subst_set) if subst_set is not None else -1\n",
    "\n",
    "    for (i, v) in enumerate(variables):\n",
    "        if i < subst_index:\n",
    "            sum_so_far = sum_so_far.subs({v : subst_set[i]}) \n",
    "        elif i > subst_index:\n",
    "            sum_temp = func.parent()(0)\n",
    "            for j in sum_set:\n",
    "                sum_temp += sum_so_far.subs({ v : j })\n",
    "            sum_so_far = sum_temp\n",
    "\n",
    "    return sum_so_far \n"
   ]
  },
  {
   "cell_type": "code",
   "execution_count": 81,
   "metadata": {
    "vscode": {
     "languageId": "python"
    }
   },
   "outputs": [
    {
     "name": "stdout",
     "output_type": "stream",
     "text": [
      "3*U^2 + 3*U + 2\n",
      "0\n",
      "0\n"
     ]
    }
   ],
   "source": [
    "Fq = GF(17)\n",
    "R = Fq[\"U, V, W\"]\n",
    "\n",
    "(U, V, W) = R.gens()\n",
    "\n",
    "fx = 4*U*V*W - 6*U*V + 5*U*W + 3*W + 1 # Fq.random_element()*U*V*W + Fq.random_element()*U*V + Fq.random_element()*U*W + Fq.random_element()*W + Fq.random_element(); print(fx)\n",
    "\n",
    "point = (7,4,9) # (Fq.random_element(), Fq.random_element(), Fq.random_element()); print(point)\n",
    "\n",
    "# assert fx(7,4,9) == 10 # fx(point[0], point[1], point[2])\n",
    "\n",
    "eq_U = lambda a : (a*U + (1-a)*(1-U))\n",
    "eq_V = lambda b : (b*V + (1-b)*(1-V))\n",
    "eq_W = lambda c : (c*W + (1-c)*(1-W))\n",
    "\n",
    "eq_UVW = lambda tuple : eq_U(tuple[0])*eq_V(tuple[1])*eq_W(tuple[2])\n",
    "\n",
    "expanded = fx*eq_UVW(point);\n",
    "\n",
    "r = None\n",
    "s0 = sumcheck_round(expanded, r, [0,1])\n",
    "assert fx(7,4,9)== s0\n",
    "\n",
    "r = []\n",
    "s1 = sumcheck_round(expanded, r, [0,1]); print(s1)\n",
    "assert s1.subs({U : 1}) + s1.subs({U : 0}) == s0\n",
    "\n",
    "r=[7]\n",
    "s2 = sumcheck_round(expanded, r, [0,1]); print(s2)\n",
    "assert s2.subs({V : 1}) + s2.subs({V : 0}) == s1.subs({U : 7})\n",
    "\n",
    "r=[7, 4]\n",
    "s3 = sumcheck_round(expanded, r, [0,1]); print(s3)\n",
    "assert s3.subs({V : 1}) + s3.subs({V : 0}) == s2.subs({U : 4})"
   ]
  }
 ],
 "metadata": {
  "kernelspec": {
   "display_name": "SageMath 10.5",
   "language": "sage",
   "name": "sagemath-10.5"
  },
  "language_info": {
   "codemirror_mode": {
    "name": "ipython",
    "version": 3
   },
   "file_extension": ".py",
   "mimetype": "text/x-python",
   "name": "python",
   "nbconvert_exporter": "python",
   "pygments_lexer": "ipython3",
   "version": "3.12.5"
  }
 },
 "nbformat": 4,
 "nbformat_minor": 4
}
