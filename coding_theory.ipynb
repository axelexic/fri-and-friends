{
 "cells": [
  {
   "cell_type": "code",
   "execution_count": 2,
   "metadata": {},
   "outputs": [],
   "source": [
    "from sage.coding.all import *\n",
    "from sage.coding.grs_code import ReedSolomonCode\n",
    "from sage.coding.guruswami_sudan.gs_decoder import GRSGuruswamiSudanDecoder\n",
    "from sage.rings.polynomial.all import *\n",
    "from sage.rings.finite_rings.all import *\n",
    "from sage.modules.free_module import VectorSpace\n",
    "from sage.matrix.all import *\n",
    "from sage.misc.functional import sqrt\n",
    "from sage.functions.other import floor\n",
    "from copy import deepcopy\n",
    "from sage.misc.prandom import random"
   ]
  },
  {
   "cell_type": "code",
   "execution_count": 3,
   "metadata": {},
   "outputs": [
    {
     "name": "stdout",
     "output_type": "stream",
     "text": [
      "Minimum Distance: 769\n",
      "Dimension: 256\n",
      "Rate: 1/4\n"
     ]
    }
   ],
   "source": [
    "P = 15*(2**27) + 1\n",
    "Fq = GF(P);\n",
    "R = PolynomialRing(Fq, \"X\");\n",
    "X = R.gen()\n",
    "\n",
    "π = Fq.multiplicative_generator() # Multiplicative Generator 3\n",
    "\n",
    "omega = π**(15*2**(27 - 10));\n",
    "omega_order = omega.multiplicative_order()\n",
    "\n",
    "k = omega_order // 4\n",
    "\n",
    "RS = ReedSolomonCode(Fq, omega_order, k, primitive_root=omega)\n",
    "evaluation_points = RS.evaluation_points(); # print(f\"Evaluation points: {evaluation_points}\")\n",
    "minimum_distance = RS.minimum_distance(); print(f\"Minimum Distance: {minimum_distance}\")\n",
    "dimension = RS.dimension(); print(f\"Dimension: {dimension}\")\n",
    "rate = RS.rate(); print(f\"Rate: {rate}\")\n",
    "E = RS.encoder(\"EvaluationPolynomial\", polynomial_ring=R)"
   ]
  },
  {
   "cell_type": "code",
   "execution_count": 4,
   "metadata": {},
   "outputs": [],
   "source": [
    "def enumerate_points_in_radius(base_point, hamming_distance):\n",
    "    from itertools import combinations\n",
    "    base_len = len(base_point)\n",
    "    result = list()\n",
    "    for r in range(hamming_distance):\n",
    "        for entries in combinations(range(base_len), r+1):\n",
    "            value = list(base_point)\n",
    "            for j in entries:\n",
    "                value[j] = 0\n",
    "            result.append(value)\n",
    "    return result"
   ]
  },
  {
   "cell_type": "code",
   "execution_count": 5,
   "metadata": {},
   "outputs": [],
   "source": [
    "def berlekamp_welch(code : ReedSolomonCode, received_vector : VectorSpace):\n",
    "    n = code.length()\n",
    "    dim = code.dimension()\n",
    "    d = code.minimum_distance()\n",
    "    field = code.base_ring()\n",
    "    eval_points = code.evaluation_points()\n",
    "    correctable = d // 2\n",
    "\n",
    "    if len(received_vector) != n:\n",
    "        raise ValueError(f\"Invalid received vector\")\n",
    "    \n",
    "    row_entry = lambda eval_point, y_val : [ eval_point**i for i in range(dim+correctable)] + [field(-1)*y_val*(eval_point**i) for i in range(correctable)]\n",
    "\n",
    "    m = Matrix(field, [ row_entry(x,y) for (x,y) in zip(eval_points, received_vector)])\n",
    "    # print(m)\n",
    "    echelon = m.echelon_form()\n",
    "    # print(echelon)\n",
    "    if echelon.rank() == n:\n",
    "        raise ValueError(\"Failed to decode: Possibly too many errors\")\n",
    "    \n",
    "    result_vector = field(-1)*echelon.column(echelon.rank())\n",
    "    a_poly = R(list(result_vector[0:dim+correctable]))\n",
    "    b_poly = result_vector[dim+correctable:]\n",
    "    b_poly[echelon.rank() - dim - correctable] = field(1)\n",
    "    b_poly = R(list(b_poly))\n",
    "    # print(a_poly)\n",
    "    # print(b_poly)\n",
    "    if a_poly % b_poly == 0:\n",
    "        decoded = a_poly // b_poly\n",
    "        # print(factor(b_poly))\n",
    "        return decoded\n",
    "    else:\n",
    "        raise ValueError(\"failed to decode!\")\n"
   ]
  },
  {
   "cell_type": "code",
   "execution_count": null,
   "metadata": {},
   "outputs": [
    {
     "name": "stdout",
     "output_type": "stream",
     "text": [
      "1169339104*X^255 + 931763717*X^254 + 1835275699*X^253 + 1528571559*X^252 + 1107217716*X^251 + 964480808*X^250 + 954925453*X^249 + 359737792*X^248 + 1742997006*X^247 + 673845184*X^246 + 618490826*X^245 + 1443625978*X^244 + 287846730*X^243 + 1506573366*X^242 + 1752752857*X^241 + 670722935*X^240 + 1659941995*X^239 + 963152970*X^238 + 987002219*X^237 + 1413088959*X^236 + 1965286363*X^235 + 271093698*X^234 + 1500807421*X^233 + 1388690128*X^232 + 1856045889*X^231 + 529811918*X^230 + 552152259*X^229 + 781487780*X^228 + 1862358691*X^227 + 942284273*X^226 + 1380034917*X^225 + 1841881182*X^224 + 76370325*X^223 + 1256256001*X^222 + 300577916*X^221 + 732406845*X^220 + 1723482055*X^219 + 564533936*X^218 + 1542299664*X^217 + 1459896571*X^216 + 1200875034*X^215 + 659618305*X^214 + 724505432*X^213 + 754210428*X^212 + 412401008*X^211 + 1832418863*X^210 + 129841942*X^209 + 138179551*X^208 + 1990699007*X^207 + 820296670*X^206 + 1459555201*X^205 + 1492498628*X^204 + 1061633934*X^203 + 1518602476*X^202 + 256275449*X^201 + 1043025220*X^200 + 1228757895*X^199 + 544036086*X^198 + 1395986872*X^197 + 818041370*X^196 + 426481002*X^195 + 83376904*X^194 + 150542791*X^193 + 335788373*X^192 + 1036383791*X^191 + 847430803*X^190 + 931975039*X^189 + 977130222*X^188 + 1256092877*X^187 + 1859432900*X^186 + 90446790*X^185 + 680256838*X^184 + 1546823883*X^183 + 1697979529*X^182 + 1810856593*X^181 + 1739085177*X^180 + 1428438144*X^179 + 1233929073*X^178 + 211491024*X^177 + 1587824322*X^176 + 810125206*X^175 + 867253718*X^174 + 938012794*X^173 + 415154624*X^172 + 1477519329*X^171 + 1924771790*X^170 + 1823697461*X^169 + 1333075920*X^168 + 1848308055*X^167 + 1804518886*X^166 + 1343696517*X^165 + 1582245735*X^164 + 1504916479*X^163 + 1786826745*X^162 + 759788757*X^161 + 1328893835*X^160 + 587134711*X^159 + 706434373*X^158 + 1998989503*X^157 + 246806225*X^156 + 286394287*X^155 + 573981965*X^154 + 1587393247*X^153 + 1813399209*X^152 + 1947807575*X^151 + 1443620175*X^150 + 1667445376*X^149 + 136601246*X^148 + 1645030264*X^147 + 1817239414*X^146 + 567361497*X^145 + 1170467548*X^144 + 1289140346*X^143 + 1978006422*X^142 + 104656857*X^141 + 744903573*X^140 + 1076285110*X^139 + 1740101279*X^138 + 521413385*X^137 + 1067741876*X^136 + 1472100244*X^135 + 24648375*X^134 + 668795503*X^133 + 475293032*X^132 + 1994750843*X^131 + 1686575524*X^130 + 686928165*X^129 + 1919839735*X^128 + 310066270*X^127 + 1329418797*X^126 + 10021906*X^125 + 28178518*X^124 + 1509930338*X^123 + 222571387*X^122 + 144273699*X^121 + 1258534294*X^120 + 1900727684*X^119 + 1945652020*X^118 + 1487587464*X^117 + 1433022685*X^116 + 944404180*X^115 + 1046873686*X^114 + 661962005*X^113 + 1663422424*X^112 + 49328006*X^111 + 1300775982*X^110 + 1584061815*X^109 + 408981514*X^108 + 673207953*X^107 + 2012809302*X^106 + 584429574*X^105 + 1994332741*X^104 + 1847126395*X^103 + 739177527*X^102 + 934187504*X^101 + 1890740705*X^100 + 1117574476*X^99 + 761812407*X^98 + 505762658*X^97 + 1559952258*X^96 + 1869661064*X^95 + 1509453880*X^94 + 1270948428*X^93 + 1585434177*X^92 + 1826450195*X^91 + 769555533*X^90 + 422236030*X^89 + 1710007462*X^88 + 921308939*X^87 + 49974666*X^86 + 1184917044*X^85 + 846900994*X^84 + 1133755616*X^83 + 1435489273*X^82 + 226578084*X^81 + 118114125*X^80 + 204945762*X^79 + 1463054570*X^78 + 1530152123*X^77 + 1138355855*X^76 + 1462765205*X^75 + 604553936*X^74 + 988665467*X^73 + 871444478*X^72 + 924789257*X^71 + 1232264495*X^70 + 1924645110*X^69 + 686790741*X^68 + 1151983007*X^67 + 1163054265*X^66 + 2960893*X^65 + 301827579*X^64 + 316088616*X^63 + 298825693*X^62 + 1983671679*X^61 + 1293527639*X^60 + 1505351550*X^59 + 154752701*X^58 + 902802179*X^57 + 1003453942*X^56 + 1688567674*X^55 + 1290569818*X^54 + 1719548473*X^53 + 850688825*X^52 + 861308467*X^51 + 890262616*X^50 + 1951601289*X^49 + 470903169*X^48 + 38293203*X^47 + 712314118*X^46 + 347034296*X^45 + 69114795*X^44 + 1650747286*X^43 + 638701475*X^42 + 924350420*X^41 + 1491730534*X^40 + 1795851293*X^39 + 892889034*X^38 + 555695182*X^37 + 259893017*X^36 + 1346019199*X^35 + 522731795*X^34 + 113134476*X^33 + 1926502539*X^32 + 1981321631*X^31 + 76987051*X^30 + 122590693*X^29 + 159562992*X^28 + 1483129371*X^27 + 30781140*X^26 + 1046523072*X^25 + 245624548*X^24 + 1231991003*X^23 + 117235925*X^22 + 484264679*X^21 + 469993953*X^20 + 219949313*X^19 + 999121760*X^18 + 277886224*X^17 + 256711592*X^16 + 1424160204*X^15 + 319512802*X^14 + 506346929*X^13 + 1709618191*X^12 + 878976*X^11 + 1251923922*X^10 + 882972534*X^9 + 1002397124*X^8 + 474003238*X^7 + 10630085*X^6 + 1956036804*X^5 + 440391604*X^4 + 202818128*X^3 + 1620497988*X^2 + 243353958*X + 69323820\n"
     ]
    },
    {
     "ename": "KeyboardInterrupt",
     "evalue": "",
     "output_type": "error",
     "traceback": [
      "\u001b[0;31m---------------------------------------------------------------------------\u001b[0m",
      "\u001b[0;31mKeyboardInterrupt\u001b[0m                         Traceback (most recent call last)",
      "Cell \u001b[0;32mIn[6], line 17\u001b[0m\n\u001b[1;32m     14\u001b[0m     \u001b[38;5;28;01melse\u001b[39;00m:\n\u001b[1;32m     15\u001b[0m         \u001b[38;5;28;01mbreak\u001b[39;00m\n\u001b[0;32m---> 17\u001b[0m \u001b[38;5;28mprint\u001b[39m(\u001b[43mD\u001b[49m\u001b[38;5;241;43m.\u001b[39;49m\u001b[43mdecode_to_message\u001b[49m\u001b[43m(\u001b[49m\u001b[43mcorrupted_code\u001b[49m\u001b[43m)\u001b[49m)\n",
      "File \u001b[0;32m/private/var/tmp/sage-10.5-current/local/var/lib/sage/venv-python3.12.5/lib/python3.12/site-packages/sage/coding/guruswami_sudan/gs_decoder.py:806\u001b[0m, in \u001b[0;36mGRSGuruswamiSudanDecoder.decode_to_message\u001b[0;34m(self, r)\u001b[0m\n\u001b[1;32m    761\u001b[0m \u001b[38;5;28;01mdef\u001b[39;00m \u001b[38;5;21mdecode_to_message\u001b[39m(\u001b[38;5;28mself\u001b[39m, r):\n\u001b[1;32m    762\u001b[0m \u001b[38;5;250m    \u001b[39m\u001b[38;5;124mr\u001b[39m\u001b[38;5;124;03m\"\"\"\u001b[39;00m\n\u001b[1;32m    763\u001b[0m \u001b[38;5;124;03m    Decode ``r`` to the list of polynomials whose encoding by\u001b[39;00m\n\u001b[1;32m    764\u001b[0m \u001b[38;5;124;03m    :meth:`self.code()` is within Hamming distance\u001b[39;00m\n\u001b[0;32m   (...)\u001b[0m\n\u001b[1;32m    804\u001b[0m \u001b[38;5;124;03m        See the documentation of `...rootfinding_algorithm()` for details\u001b[39;00m\n\u001b[1;32m    805\u001b[0m \u001b[38;5;124;03m    \"\"\"\u001b[39;00m\n\u001b[0;32m--> 806\u001b[0m     \u001b[38;5;28;01mreturn\u001b[39;00m [\u001b[38;5;28mself\u001b[39m\u001b[38;5;241m.\u001b[39mconnected_encoder()\u001b[38;5;241m.\u001b[39munencode(c) \u001b[38;5;28;01mfor\u001b[39;00m c \u001b[38;5;129;01min\u001b[39;00m \u001b[38;5;28;43mself\u001b[39;49m\u001b[38;5;241;43m.\u001b[39;49m\u001b[43mdecode_to_code\u001b[49m\u001b[43m(\u001b[49m\u001b[43mr\u001b[49m\u001b[43m)\u001b[49m]\n",
      "File \u001b[0;32m/private/var/tmp/sage-10.5-current/local/var/lib/sage/venv-python3.12.5/lib/python3.12/site-packages/sage/coding/guruswami_sudan/gs_decoder.py:857\u001b[0m, in \u001b[0;36mGRSGuruswamiSudanDecoder.decode_to_code\u001b[0;34m(self, r)\u001b[0m\n\u001b[1;32m    855\u001b[0m \u001b[38;5;66;03m## SOLVE INTERPOLATION\u001b[39;00m\n\u001b[1;32m    856\u001b[0m \u001b[38;5;28;01mtry\u001b[39;00m:\n\u001b[0;32m--> 857\u001b[0m     Q \u001b[38;5;241m=\u001b[39m \u001b[38;5;28;43mself\u001b[39;49m\u001b[38;5;241;43m.\u001b[39;49m\u001b[43minterpolation_algorithm\u001b[49m\u001b[43m(\u001b[49m\u001b[43m)\u001b[49m\u001b[43m(\u001b[49m\u001b[43mpoints\u001b[49m\u001b[43m,\u001b[49m\u001b[43m \u001b[49m\u001b[43mtau\u001b[49m\u001b[43m,\u001b[49m\u001b[43m \u001b[49m\u001b[43m(\u001b[49m\u001b[43ms\u001b[49m\u001b[43m,\u001b[49m\u001b[43ml\u001b[49m\u001b[43m)\u001b[49m\u001b[43m,\u001b[49m\u001b[43m \u001b[49m\u001b[43mwy\u001b[49m\u001b[43m)\u001b[49m\n\u001b[1;32m    858\u001b[0m \u001b[38;5;28;01mexcept\u001b[39;00m \u001b[38;5;167;01mTypeError\u001b[39;00m:\n\u001b[1;32m    859\u001b[0m     \u001b[38;5;28;01mraise\u001b[39;00m \u001b[38;5;167;01mValueError\u001b[39;00m(\u001b[38;5;124m\"\u001b[39m\u001b[38;5;124mThe provided interpolation algorithm has a wrong signature. See the documentation of `codes.decoders.GRSGuruswamiSudanDecoder.interpolation_algorithm()` for details\u001b[39m\u001b[38;5;124m\"\u001b[39m)\n",
      "File \u001b[0;32m/private/var/tmp/sage-10.5-current/local/var/lib/sage/venv-python3.12.5/lib/python3.12/site-packages/sage/coding/guruswami_sudan/interpolation.py:402\u001b[0m, in \u001b[0;36mgs_interpolation_lee_osullivan\u001b[0;34m(points, tau, parameters, wy)\u001b[0m\n\u001b[1;32m    400\u001b[0m M \u001b[38;5;241m=\u001b[39m lee_osullivan_module(points, (s,l), wy)\n\u001b[1;32m    401\u001b[0m shifts \u001b[38;5;241m=\u001b[39m [i \u001b[38;5;241m*\u001b[39m wy \u001b[38;5;28;01mfor\u001b[39;00m i \u001b[38;5;129;01min\u001b[39;00m \u001b[38;5;28mrange\u001b[39m(\u001b[38;5;241m0\u001b[39m,l\u001b[38;5;241m+\u001b[39m\u001b[38;5;241m1\u001b[39m)]\n\u001b[0;32m--> 402\u001b[0m Mnew \u001b[38;5;241m=\u001b[39m \u001b[43mM\u001b[49m\u001b[38;5;241;43m.\u001b[39;49m\u001b[43mreduced_form\u001b[49m\u001b[43m(\u001b[49m\u001b[43mshifts\u001b[49m\u001b[38;5;241;43m=\u001b[39;49m\u001b[43mshifts\u001b[49m\u001b[43m)\u001b[49m\n\u001b[1;32m    403\u001b[0m \u001b[38;5;66;03m# Construct Q as the element of the row with the lowest weighted degree\u001b[39;00m\n\u001b[1;32m    404\u001b[0m Qlist \u001b[38;5;241m=\u001b[39m \u001b[38;5;28mmin\u001b[39m(Mnew\u001b[38;5;241m.\u001b[39mrows(), key\u001b[38;5;241m=\u001b[39m\u001b[38;5;28;01mlambda\u001b[39;00m r: _degree_of_vector(r, shifts))\n",
      "File \u001b[0;32m/private/var/tmp/sage-10.5-current/local/var/lib/sage/venv-python3.12.5/lib/python3.12/site-packages/sage/matrix/matrix_polynomial_dense.pyx:2562\u001b[0m, in \u001b[0;36msage.matrix.matrix_polynomial_dense.Matrix_polynomial_dense.reduced_form (build/cythonized/sage/matrix/matrix_polynomial_dense.c:30844)\u001b[0;34m()\u001b[0m\n\u001b[1;32m   2560\u001b[0m     :meth:`hermite_form` .\n\u001b[1;32m   2561\u001b[0m \"\"\"\n\u001b[0;32m-> 2562\u001b[0m return self.weak_popov_form(transformation,\n\u001b[1;32m   2563\u001b[0m         shifts,\n\u001b[1;32m   2564\u001b[0m         row_wise,\n",
      "File \u001b[0;32m/private/var/tmp/sage-10.5-current/local/var/lib/sage/venv-python3.12.5/lib/python3.12/site-packages/sage/matrix/matrix_polynomial_dense.pyx:2087\u001b[0m, in \u001b[0;36msage.matrix.matrix_polynomial_dense.Matrix_polynomial_dense.weak_popov_form (build/cythonized/sage/matrix/matrix_polynomial_dense.c:25680)\u001b[0;34m()\u001b[0m\n\u001b[1;32m   2085\u001b[0m # call main procedure to compute weak Popov and transformation\n\u001b[1;32m   2086\u001b[0m M = self.__copy__()\n\u001b[0;32m-> 2087\u001b[0m U = M._weak_popov_form(transformation=transformation,\n\u001b[1;32m   2088\u001b[0m         shifts=nonnegative_shifts)\n\u001b[1;32m   2089\u001b[0m # move zero rows to the bottom of the matrix\n",
      "File \u001b[0;32m/private/var/tmp/sage-10.5-current/local/var/lib/sage/venv-python3.12.5/lib/python3.12/site-packages/sage/matrix/matrix_polynomial_dense.pyx:2214\u001b[0m, in \u001b[0;36msage.matrix.matrix_polynomial_dense.Matrix_polynomial_dense._weak_popov_form (build/cythonized/sage/matrix/matrix_polynomial_dense.c:27644)\u001b[0;34m()\u001b[0m\n\u001b[1;32m   2212\u001b[0m \n\u001b[1;32m   2213\u001b[0m             coeff = - M.get_unsafe(i,c).lc() / M.get_unsafe(j,c).lc()\n\u001b[0;32m-> 2214\u001b[0m             s = coeff * one.shift(ideg - jdeg)\n\u001b[1;32m   2215\u001b[0m \n\u001b[1;32m   2216\u001b[0m             M.add_multiple_of_row_c(i, j, s, 0)\n",
      "File \u001b[0;32m/private/var/tmp/sage-10.5-current/local/var/lib/sage/venv-python3.12.5/lib/python3.12/site-packages/sage/rings/polynomial/polynomial_template.pxi:719\u001b[0m, in \u001b[0;36msage.rings.polynomial.polynomial_zmod_flint.Polynomial_template.shift (build/cythonized/sage/rings/polynomial/polynomial_zmod_flint.cpp:19255)\u001b[0;34m()\u001b[0m\n\u001b[1;32m    717\u001b[0m         x^2 + x\n\u001b[1;32m    718\u001b[0m     \"\"\"\n\u001b[0;32m--> 719\u001b[0m     return element_shift(self, n)\n\u001b[1;32m    720\u001b[0m \n\u001b[1;32m    721\u001b[0m def __lshift__(self, int n):\n",
      "File \u001b[0;32m/private/var/tmp/sage-10.5-current/local/var/lib/sage/venv-python3.12.5/lib/python3.12/site-packages/sage/rings/polynomial/polynomial_template.pxi:45\u001b[0m, in \u001b[0;36msage.rings.polynomial.polynomial_zmod_flint.element_shift (build/cythonized/sage/rings/polynomial/polynomial_zmod_flint.cpp:11844)\u001b[0;34m()\u001b[0m\n\u001b[1;32m     43\u001b[0m cdef celement *gen = celement_new((<Polynomial_template>self)._cparent)\n\u001b[1;32m     44\u001b[0m celement_gen(gen, 0, (<Polynomial_template>self)._cparent)\n\u001b[0;32m---> 45\u001b[0m celement_pow(gen, gen, abs(n), NULL, (<Polynomial_template>self)._cparent)\n\u001b[1;32m     46\u001b[0m cdef type T = type(self)\n\u001b[1;32m     47\u001b[0m cdef Polynomial_template r = <Polynomial_template>T.__new__(T)\n",
      "File \u001b[0;32m/private/var/tmp/sage-10.5-current/local/var/lib/sage/venv-python3.12.5/lib/python3.12/site-packages/sage/libs/flint/nmod_poly_linkage.pxi:549\u001b[0m, in \u001b[0;36msage.rings.polynomial.polynomial_zmod_flint.celement_pow (build/cythonized/sage/rings/polynomial/polynomial_zmod_flint.cpp:10772)\u001b[0;34m()\u001b[0m\n\u001b[1;32m    547\u001b[0m     sig_off()\n\u001b[1;32m    548\u001b[0m else:\n\u001b[0;32m--> 549\u001b[0m     sig_on()\n\u001b[1;32m    550\u001b[0m     nmod_poly_pow(res, x, e)\n\u001b[1;32m    551\u001b[0m     sig_off()\n",
      "\u001b[0;31mKeyboardInterrupt\u001b[0m: "
     ]
    }
   ],
   "source": [
    "fx = R.random_element(k-1); print(fx)\n",
    "code = E.encode(fx)\n",
    "error_rate = 1 - sqrt(rate)\n",
    "error_count = floor(error_rate*omega_order) - 1\n",
    "D = GRSGuruswamiSudanDecoder(RS, tau=error_count)\n",
    "\n",
    "corrupted_code = deepcopy(code)\n",
    "\n",
    "for i in range(omega_order):\n",
    "    if error_count > 0:\n",
    "        if random() < error_rate:\n",
    "            corrupted_code[i] = Fq.random_element()\n",
    "            error_count = error_count - 1\n",
    "    else:\n",
    "        break\n",
    "\n",
    "print(D.decode_to_message(corrupted_code))\n"
   ]
  }
 ],
 "metadata": {
  "kernelspec": {
   "display_name": "SageMath 10.5",
   "language": "sage",
   "name": "sagemath-10.5"
  },
  "language_info": {
   "codemirror_mode": {
    "name": "ipython",
    "version": 3
   },
   "file_extension": ".py",
   "mimetype": "text/x-python",
   "name": "python",
   "nbconvert_exporter": "python",
   "pygments_lexer": "ipython3",
   "version": "3.12.5"
  }
 },
 "nbformat": 4,
 "nbformat_minor": 4
}
