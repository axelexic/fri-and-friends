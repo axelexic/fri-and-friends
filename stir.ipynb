{
 "cells": [
  {
   "cell_type": "markdown",
   "metadata": {},
   "source": [
    "# STIR: Polynomial Commitment"
   ]
  },
  {
   "cell_type": "code",
   "execution_count": 20,
   "metadata": {
    "vscode": {
     "languageId": "python"
    }
   },
   "outputs": [],
   "source": [
    "from sage.rings.finite_rings.all import *\n",
    "from sage.rings.polynomial.all import *\n",
    "from sage.misc.prandom import sample"
   ]
  },
  {
   "cell_type": "code",
   "execution_count": 21,
   "metadata": {
    "vscode": {
     "languageId": "python"
    }
   },
   "outputs": [],
   "source": [
    "def chunk_poly(poly, split_degree):\n",
    "    splits = [ poly.parent()(0) for _ in range(split_degree) ]\n",
    "    indeterminate = poly.parent().gen()\n",
    "\n",
    "    for (i,coef) in enumerate(poly.list()):\n",
    "        ndx = i % split_degree\n",
    "        deg = i // split_degree\n",
    "        splits[ndx] = splits[ndx] + coef*(indeterminate**deg)\n",
    "\n",
    "    pp = poly.parent()(0)\n",
    "\n",
    "    for (j,mini_poly) in enumerate(splits):\n",
    "        pp = pp + mini_poly.subs({ indeterminate : indeterminate** split_degree})*(indeterminate**j)\n",
    "    assert pp == poly, \"Polynomial reconstruction failed\"\n",
    "\n",
    "    return splits\n",
    "\n",
    "def reed_solomon_encode(fx, eval_domain):\n",
    "    return [fx(x) for x in eval_domain ]\n",
    "\n",
    "def fold(commit_poly, split_size, challenge, eval_domain):\n",
    "    \"\"\"\n",
    "    K-ary fold of the polynomial and the updated evaluation domain\n",
    "    \"\"\"\n",
    "    splits = chunk_poly(commit_poly, split_size)\n",
    "    updated_domain = list(set([x**split_size for x in eval_domain]))\n",
    "    new_poly = commit_poly.parent()(0)\n",
    "    for i in range(split_size):\n",
    "        new_poly = new_poly + (challenge**i)*splits[i]\n",
    "\n",
    "    return (new_poly, updated_domain)\n",
    "\n",
    "def ood_sample(fq, count, eval_domain):\n",
    "    \"\"\"\n",
    "    Sample random out of domain elements\n",
    "    \"\"\"\n",
    "    result = list()\n",
    "\n",
    "    while count > 0:\n",
    "        rng = fq.random_element()\n",
    "        if rng in eval_domain:\n",
    "            continue\n",
    "        result.append(rng)\n",
    "        count = count - 1\n",
    "\n",
    "    return result\n",
    "\n",
    "def ans_vanishing_poly(g_poly, Rout, Rshift):\n",
    "    indexing_set = list(Rout)\n",
    "    indexing_set.extend(Rshift)\n",
    "    interpolant = [(ndx, g_poly(ndx)) for ndx in indexing_set ]\n",
    "    poly_var = g_poly.parent().gen()\n",
    "    vanish = prod([(poly_var - root) for root in indexing_set])\n",
    "\n",
    "    return (g_poly.parent().lagrange_polynomial(interpolant), vanish)    \n",
    "\n",
    "def poly_quotient(g_poly, Rout, Rshift):\n",
    "    (ans_poly,vanish) = ans_vanishing_poly(g_poly, Rout, Rshift)\n",
    "    numerator = g_poly - ans_poly\n",
    "    assert numerator % vanish == 0\n",
    "    return numerator // vanish"
   ]
  },
  {
   "cell_type": "code",
   "execution_count": 22,
   "metadata": {
    "vscode": {
     "languageId": "python"
    }
   },
   "outputs": [],
   "source": [
    "q = 15*(2**27) + 1 # prime field\n",
    "fq_star_order = q - 1   \n",
    "q_smooth_order = 2**27  \n",
    "fft_order = 2**10 # The size of the RS Codeword\n",
    "s = 4\n",
    "Fq = GF(q)\n",
    "Rx = PolynomialRing(Fq, \"X\")\n",
    "Rxy = PolynomialRing(Rx, \"X,Y\")\n",
    "X = Rx.gen()\n",
    "Y = Rxy.gens()[1]\n",
    "fq_star_gen = Fq(31) # Fq.multiplicative_generator()\n",
    "ω = fq_star_gen^(fq_star_order // fft_order)\n",
    "# print(f\"ω={ω}\")"
   ]
  },
  {
   "cell_type": "code",
   "execution_count": 23,
   "metadata": {
    "vscode": {
     "languageId": "python"
    }
   },
   "outputs": [
    {
     "name": "stdout",
     "output_type": "stream",
     "text": [
      "RS Parameters: ω=341742893, d=256, k=4, M=4, dis=[256, 64, 16, 4], tis=[255, 63, 15, 3]\n"
     ]
    }
   ],
   "source": [
    "d = 2**8 # The maximum degree of polynomial\n",
    "k = 4 # Folding parameter\n",
    "M = int(ceil(log(d, k)));\n",
    "kis = list()    # K's at each iteration which is same as k\n",
    "tis = list()    # tis at each iteration\n",
    "dis = list()    # dis at each iteration\n",
    "\n",
    "for i in range(M):\n",
    "    kis.append(k)\n",
    "    denom = prod(kis[0:i])\n",
    "    di = Integer(d//denom)\n",
    "    dis.append(di)\n",
    "    tis.append(di-1)\n",
    "\n",
    "print(f\"RS Parameters: ω={ω}, d={d}, k={k}, M={M}, dis={dis}, tis={tis}\")"
   ]
  },
  {
   "cell_type": "markdown",
   "metadata": {},
   "source": [
    "### Intial Function"
   ]
  },
  {
   "cell_type": "code",
   "execution_count": null,
   "metadata": {
    "vscode": {
     "languageId": "python"
    }
   },
   "outputs": [],
   "source": [
    "f_0 = Rx.random_element(d-1)\n",
    "S_0 = [ ω**i for i in  range(fft_order) ]\n",
    "code_word_0 = reed_solomon_encode(f_0, S_0);\n",
    "r_0_fold = Fq(293327713) # Fq.random_element()\n",
    "print(f\"|S_0|={len(S_0)}\\nf0={f_0}\\nr_0_fold={r_0_fold}\\n\")\n",
    "\n",
    "(g_1, S_1) = fold(f_0, k, r_0_fold, S_0)\n",
    "\n",
    "code_word_1 = reed_solomon_encode(g_1, S_1)\n",
    "print(f\"|S_1|={len(S_1)}\\ng_1={g_1}\\n\")\n",
    "\n",
    "R1_out = [442668221, 870054799, 1716171781, 1743092226] # ood_sample(Fq, s, S_1)\n",
    "beta_1 = [g_1(x) for x in R1_out]\n",
    "# print(beta_1)\n",
    "\n",
    "R1_fold = Fq.random_element()\n",
    "R1_comb = Fq.random_element()\n",
    "\n",
    "R1_shift = [970382339, 1713712948, 434423500, 1086923312] # sample(S_0, tis[0])\n",
    "\n",
    "g_prime = poly_quotient(g_1, R1_out, R1_shift)\n",
    "\n",
    "print(f\"g_prime={g_prime}\")\n"
   ]
  }
 ],
 "metadata": {
  "kernelspec": {
   "display_name": "SageMath 10.5",
   "language": "sage",
   "name": "sagemath-10.5"
  },
  "language_info": {
   "codemirror_mode": {
    "name": "ipython",
    "version": 3
   },
   "file_extension": ".py",
   "mimetype": "text/x-python",
   "name": "sage",
   "nbconvert_exporter": "python",
   "pygments_lexer": "ipython3",
   "version": "3.12.5"
  }
 },
 "nbformat": 4,
 "nbformat_minor": 2
}
